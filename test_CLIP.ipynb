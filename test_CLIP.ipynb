{
 "cells": [
  {
   "cell_type": "code",
   "execution_count": 1,
   "metadata": {
    "colab": {
     "base_uri": "https://localhost:8080/"
    },
    "executionInfo": {
     "elapsed": 6522,
     "status": "ok",
     "timestamp": 1741871820621,
     "user": {
      "displayName": "Luca Fossen",
      "userId": "05839406467121902627"
     },
     "user_tz": -60
    },
    "id": "nsN-IbxT3PKX",
    "outputId": "98c9c1b5-b4d1-42fa-d70f-468ddebe4469"
   },
   "outputs": [
    {
     "name": "stdout",
     "output_type": "stream",
     "text": [
      "Requirement already satisfied: ftfy in /usr/local/lib/python3.11/dist-packages (6.3.1)\n",
      "Requirement already satisfied: regex in /usr/local/lib/python3.11/dist-packages (2024.11.6)\n",
      "Requirement already satisfied: tqdm in /usr/local/lib/python3.11/dist-packages (4.67.1)\n",
      "Requirement already satisfied: wcwidth in /usr/local/lib/python3.11/dist-packages (from ftfy) (0.2.13)\n",
      "Collecting git+https://github.com/openai/CLIP.git\n",
      "  Cloning https://github.com/openai/CLIP.git to /tmp/pip-req-build-dm85orbn\n",
      "  Running command git clone --filter=blob:none --quiet https://github.com/openai/CLIP.git /tmp/pip-req-build-dm85orbn\n",
      "  Resolved https://github.com/openai/CLIP.git to commit dcba3cb2e2827b402d2701e7e1c7d9fed8a20ef1\n",
      "  Preparing metadata (setup.py) ... \u001b[?25l\u001b[?25hdone\n",
      "Requirement already satisfied: ftfy in /usr/local/lib/python3.11/dist-packages (from clip==1.0) (6.3.1)\n",
      "Requirement already satisfied: packaging in /usr/local/lib/python3.11/dist-packages (from clip==1.0) (24.2)\n",
      "Requirement already satisfied: regex in /usr/local/lib/python3.11/dist-packages (from clip==1.0) (2024.11.6)\n",
      "Requirement already satisfied: tqdm in /usr/local/lib/python3.11/dist-packages (from clip==1.0) (4.67.1)\n",
      "Requirement already satisfied: torch in /usr/local/lib/python3.11/dist-packages (from clip==1.0) (2.5.1+cu124)\n",
      "Requirement already satisfied: torchvision in /usr/local/lib/python3.11/dist-packages (from clip==1.0) (0.20.1+cu124)\n",
      "Requirement already satisfied: wcwidth in /usr/local/lib/python3.11/dist-packages (from ftfy->clip==1.0) (0.2.13)\n",
      "Requirement already satisfied: filelock in /usr/local/lib/python3.11/dist-packages (from torch->clip==1.0) (3.17.0)\n",
      "Requirement already satisfied: typing-extensions>=4.8.0 in /usr/local/lib/python3.11/dist-packages (from torch->clip==1.0) (4.12.2)\n",
      "Requirement already satisfied: networkx in /usr/local/lib/python3.11/dist-packages (from torch->clip==1.0) (3.4.2)\n",
      "Requirement already satisfied: jinja2 in /usr/local/lib/python3.11/dist-packages (from torch->clip==1.0) (3.1.6)\n",
      "Requirement already satisfied: fsspec in /usr/local/lib/python3.11/dist-packages (from torch->clip==1.0) (2024.10.0)\n",
      "Requirement already satisfied: nvidia-cuda-nvrtc-cu12==12.4.127 in /usr/local/lib/python3.11/dist-packages (from torch->clip==1.0) (12.4.127)\n",
      "Requirement already satisfied: nvidia-cuda-runtime-cu12==12.4.127 in /usr/local/lib/python3.11/dist-packages (from torch->clip==1.0) (12.4.127)\n",
      "Requirement already satisfied: nvidia-cuda-cupti-cu12==12.4.127 in /usr/local/lib/python3.11/dist-packages (from torch->clip==1.0) (12.4.127)\n",
      "Requirement already satisfied: nvidia-cudnn-cu12==9.1.0.70 in /usr/local/lib/python3.11/dist-packages (from torch->clip==1.0) (9.1.0.70)\n",
      "Requirement already satisfied: nvidia-cublas-cu12==12.4.5.8 in /usr/local/lib/python3.11/dist-packages (from torch->clip==1.0) (12.4.5.8)\n",
      "Requirement already satisfied: nvidia-cufft-cu12==11.2.1.3 in /usr/local/lib/python3.11/dist-packages (from torch->clip==1.0) (11.2.1.3)\n",
      "Requirement already satisfied: nvidia-curand-cu12==10.3.5.147 in /usr/local/lib/python3.11/dist-packages (from torch->clip==1.0) (10.3.5.147)\n",
      "Requirement already satisfied: nvidia-cusolver-cu12==11.6.1.9 in /usr/local/lib/python3.11/dist-packages (from torch->clip==1.0) (11.6.1.9)\n",
      "Requirement already satisfied: nvidia-cusparse-cu12==12.3.1.170 in /usr/local/lib/python3.11/dist-packages (from torch->clip==1.0) (12.3.1.170)\n",
      "Requirement already satisfied: nvidia-nccl-cu12==2.21.5 in /usr/local/lib/python3.11/dist-packages (from torch->clip==1.0) (2.21.5)\n",
      "Requirement already satisfied: nvidia-nvtx-cu12==12.4.127 in /usr/local/lib/python3.11/dist-packages (from torch->clip==1.0) (12.4.127)\n",
      "Requirement already satisfied: nvidia-nvjitlink-cu12==12.4.127 in /usr/local/lib/python3.11/dist-packages (from torch->clip==1.0) (12.4.127)\n",
      "Requirement already satisfied: triton==3.1.0 in /usr/local/lib/python3.11/dist-packages (from torch->clip==1.0) (3.1.0)\n",
      "Requirement already satisfied: sympy==1.13.1 in /usr/local/lib/python3.11/dist-packages (from torch->clip==1.0) (1.13.1)\n",
      "Requirement already satisfied: mpmath<1.4,>=1.1.0 in /usr/local/lib/python3.11/dist-packages (from sympy==1.13.1->torch->clip==1.0) (1.3.0)\n",
      "Requirement already satisfied: numpy in /usr/local/lib/python3.11/dist-packages (from torchvision->clip==1.0) (1.26.4)\n",
      "Requirement already satisfied: pillow!=8.3.*,>=5.3.0 in /usr/local/lib/python3.11/dist-packages (from torchvision->clip==1.0) (11.1.0)\n",
      "Requirement already satisfied: MarkupSafe>=2.0 in /usr/local/lib/python3.11/dist-packages (from jinja2->torch->clip==1.0) (3.0.2)\n"
     ]
    }
   ],
   "source": [
    "!pip install ftfy regex tqdm\n",
    "!pip install git+https://github.com/openai/CLIP.git"
   ]
  },
  {
   "cell_type": "code",
   "execution_count": 13,
   "metadata": {
    "colab": {
     "base_uri": "https://localhost:8080/"
    },
    "executionInfo": {
     "elapsed": 1635,
     "status": "ok",
     "timestamp": 1741873924400,
     "user": {
      "displayName": "Luca Fossen",
      "userId": "05839406467121902627"
     },
     "user_tz": -60
    },
    "id": "XetjJcBC5C-A",
    "outputId": "a362f925-29d4-44ae-a542-4a4cb5ea36ff"
   },
   "outputs": [
    {
     "name": "stdout",
     "output_type": "stream",
     "text": [
      "Drive already mounted at /content/drive; to attempt to forcibly remount, call drive.mount(\"/content/drive\", force_remount=True).\n",
      "/content/drive/Othercomputers/lucas-yoga/UiB/INFO381/code/INFO381-GitHub\n"
     ]
    }
   ],
   "source": []
  },
  {
   "cell_type": "code",
   "execution_count": 3,
   "metadata": {
    "executionInfo": {
     "elapsed": 3041,
     "status": "ok",
     "timestamp": 1741871824616,
     "user": {
      "displayName": "Luca Fossen",
      "userId": "05839406467121902627"
     },
     "user_tz": -60
    },
    "id": "1NCaqVBS3ApL"
   },
   "outputs": [],
   "source": [
    "import torch\n",
    "import torch.nn as nn\n",
    "import torch.optim as optim\n",
    "from torch.utils.data import DataLoader\n",
    "import torchvision.transforms as transforms\n",
    "from torchvision.datasets import ImageFolder\n",
    "import clip\n",
    "import time\n",
    "import os\n",
    "\n",
    "# Connect to personal files if using Google Colab\n",
    "def connect_to_drive(computer_name, subpath):\n",
    "    try:\n",
    "        from google.colab import drive\n",
    "        drive.mount('/content/drive')\n",
    "        target_path = os.path.join(\"/content/drive/Othercomputers\", computer_name, subpath)\n",
    "        os.chdir(target_path)\n",
    "        using_colab = True\n",
    "    except:\n",
    "        print(\"Not using Google Colab\")\n",
    "        using_colab = False\n",
    "    return using_colab\n",
    "using_colab = connect_to_drive(\"lucas-yoga\", \"Current/INFO381/code/INFO381-GitHub\")\n",
    "\n",
    "# Local imports\n",
    "from utils import get_dataloaders"
   ]
  },
  {
   "cell_type": "code",
   "execution_count": 4,
   "metadata": {
    "executionInfo": {
     "elapsed": 4651,
     "status": "ok",
     "timestamp": 1741871829269,
     "user": {
      "displayName": "Luca Fossen",
      "userId": "05839406467121902627"
     },
     "user_tz": -60
    },
    "id": "3sMWPcTY4ryx"
   },
   "outputs": [],
   "source": [
    "# 1) Load the CLIP model and choose device.\n",
    "device = torch.device(\"cuda\" if torch.cuda.is_available() else \"cpu\")\n",
    "clip_model, clip_preprocess = clip.load(\"ViT-B/32\", device=device)\n",
    "clip_model.eval()  # Put CLIP in eval mode.\n",
    "\n",
    "# 2) Optionally freeze all CLIP parameters or only part of them.\n",
    "for param in clip_model.parameters():\n",
    "    param.requires_grad = False"
   ]
  },
  {
   "cell_type": "markdown",
   "metadata": {
    "id": "N94bvUem3ApP"
   },
   "source": [
    "### Image preprocessing"
   ]
  },
  {
   "cell_type": "code",
   "execution_count": 5,
   "metadata": {
    "executionInfo": {
     "elapsed": 1,
     "status": "ok",
     "timestamp": 1741871829273,
     "user": {
      "displayName": "Luca Fossen",
      "userId": "05839406467121902627"
     },
     "user_tz": -60
    },
    "id": "nRHs2Ebu4ryz"
   },
   "outputs": [],
   "source": [
    "\n",
    "# 3) Define your image transform. You can use clip_preprocess or your own.\n",
    "#    For best results, the official clip_preprocess often works well:\n",
    "transform = clip_preprocess\n"
   ]
  },
  {
   "cell_type": "markdown",
   "metadata": {
    "id": "QJoWbsXs3ApN"
   },
   "source": [
    "### Define train and test path"
   ]
  },
  {
   "cell_type": "markdown",
   "metadata": {
    "id": "kqMLpXl63ApQ"
   },
   "source": [
    "### Create the datasets with ImageFolder\n",
    "\n",
    "Automatically reads the REAL and FAKE folders and lables them"
   ]
  },
  {
   "cell_type": "code",
   "execution_count": 8,
   "metadata": {
    "executionInfo": {
     "elapsed": 383,
     "status": "ok",
     "timestamp": 1741871875272,
     "user": {
      "displayName": "Luca Fossen",
      "userId": "05839406467121902627"
     },
     "user_tz": -60
    },
    "id": "PfEsdWWK4ry0"
   },
   "outputs": [],
   "source": [
    "train_loader, test_loader = get_dataloaders(zip_path=\"cifar_train_test.zip\")\n",
    "print(train_loader)"
   ]
  },
  {
   "cell_type": "markdown",
   "metadata": {
    "id": "bxqnyr673ApU"
   },
   "source": [
    "### Defining the model\n",
    "\n",
    "Using CLIP with a linear classifier on top"
   ]
  },
  {
   "cell_type": "code",
   "execution_count": 11,
   "metadata": {
    "executionInfo": {
     "elapsed": 7,
     "status": "ok",
     "timestamp": 1741872074369,
     "user": {
      "displayName": "Luca Fossen",
      "userId": "05839406467121902627"
     },
     "user_tz": -60
    },
    "id": "Nty-4nJL4ry3"
   },
   "outputs": [],
   "source": [
    "# 5) Create a simple classifier head for the CLIP embeddings.\n",
    "#    CLIP's ViT-B/32 has a default embedding dimension of 512.\n",
    "class CLIPClassifier(nn.Module):\n",
    "    def __init__(self, clip_model, embed_dim=512, num_classes=2):\n",
    "        super().__init__()\n",
    "        self.clip_model = clip_model\n",
    "        self.classifier = nn.Linear(embed_dim, num_classes)\n",
    "\n",
    "    def forward(self, images):\n",
    "        # Encode images with CLIP's ViT (frozen), no gradient needed.\n",
    "        with torch.no_grad():\n",
    "            image_embeddings = self.clip_model.encode_image(images)\n",
    "        image_embeddings = image_embeddings.float()  # cast to float32\n",
    "        # Trainable classification head\n",
    "        return self.classifier(image_embeddings)\n",
    "\n",
    "# 6) Instantiate our model with CLIP backbone + linear head.\n",
    "model = CLIPClassifier(clip_model, embed_dim=512, num_classes=2).to(device)\n",
    "\n",
    "# 7) Define loss function and optimizer (only training the classifier head).\n",
    "criterion = nn.CrossEntropyLoss()\n",
    "optimizer = optim.Adam(model.classifier.parameters(), lr=0.001)\n"
   ]
  },
  {
   "cell_type": "markdown",
   "metadata": {
    "id": "UR_W5TH43ApW"
   },
   "source": [
    "### Training the model"
   ]
  },
  {
   "cell_type": "code",
   "execution_count": 12,
   "metadata": {
    "colab": {
     "base_uri": "https://localhost:8080/"
    },
    "executionInfo": {
     "elapsed": 211452,
     "status": "ok",
     "timestamp": 1741872286802,
     "user": {
      "displayName": "Luca Fossen",
      "userId": "05839406467121902627"
     },
     "user_tz": -60
    },
    "id": "WqKQi1OB4ry4",
    "outputId": "44c59872-f04f-4d92-b90b-49b8dac0792b"
   },
   "outputs": [
    {
     "name": "stdout",
     "output_type": "stream",
     "text": [
      "Epoch [1/1], Loss: 0.2163, Accuracy: 91.92%, Time: 210.93 s\n",
      "CLIP-based model saved successfully!\n"
     ]
    }
   ],
   "source": [
    "# 8) Training loop (similar to your ResNet loop).\n",
    "num_epochs = 1\n",
    "for epoch in range(num_epochs):\n",
    "    start_time = time.time()\n",
    "\n",
    "    model.train()\n",
    "    running_loss = 0.0\n",
    "    correct = 0\n",
    "    total = 0\n",
    "\n",
    "    for inputs, labels in train_loader:\n",
    "        inputs, labels = inputs.to(device), labels.to(device)\n",
    "\n",
    "        # Clear old gradients\n",
    "        optimizer.zero_grad()\n",
    "\n",
    "        outputs = model(inputs)  # Forward pass\n",
    "        loss = criterion(outputs, labels)  # Compute loss\n",
    "        loss.backward()                     # Backprop\n",
    "        optimizer.step()                    # Update classifier head\n",
    "\n",
    "        # Track training loss\n",
    "        running_loss += loss.item()\n",
    "\n",
    "        # Compute accuracy\n",
    "        _, preds = torch.max(outputs, 1)\n",
    "        correct += (preds == labels).sum().item()\n",
    "        total += labels.size(0)\n",
    "\n",
    "    epoch_loss = running_loss / len(train_loader)\n",
    "    epoch_accuracy = correct / total * 100\n",
    "    end_time = time.time()\n",
    "\n",
    "    print(f\"Epoch [{epoch+1}/{num_epochs}], \"\n",
    "        f\"Loss: {epoch_loss:.4f}, \"\n",
    "        f\"Accuracy: {epoch_accuracy:.2f}%, \"\n",
    "        f\"Time: {end_time - start_time:.2f} s\")\n",
    "\n",
    "# 9) Save the final classifier state...\n",
    "torch.save(model.state_dict(), \"clip_vit_classifier.pth\")\n",
    "print(\"CLIP-based model saved successfully!\")"
   ]
  }
 ],
 "metadata": {
  "accelerator": "GPU",
  "colab": {
   "gpuType": "A100",
   "provenance": []
  },
  "kernelspec": {
   "display_name": "Python 3",
   "name": "python3"
  },
  "language_info": {
   "codemirror_mode": {
    "name": "ipython",
    "version": 3
   },
   "file_extension": ".py",
   "mimetype": "text/x-python",
   "name": "python",
   "nbconvert_exporter": "python",
   "pygments_lexer": "ipython3",
   "version": "3.11.5"
  },
  "orig_nbformat": 4
 },
 "nbformat": 4,
 "nbformat_minor": 0
}
