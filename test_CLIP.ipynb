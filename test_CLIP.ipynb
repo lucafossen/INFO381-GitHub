{
 "cells": [
  {
   "cell_type": "code",
   "execution_count": null,
   "metadata": {
    "colab": {
     "base_uri": "https://localhost:8080/"
    },
    "executionInfo": {
     "elapsed": 84015,
     "status": "ok",
     "timestamp": 1741792808510,
     "user": {
      "displayName": "Luca Fossen",
      "userId": "05839406467121902627"
     },
     "user_tz": -60
    },
    "id": "nsN-IbxT3PKX",
    "outputId": "419057ac-c8fc-4e59-e92e-d904cefcc474"
   },
   "outputs": [],
   "source": [
    "!pip install ftfy regex tqdm\n",
    "!pip install git+https://github.com/openai/CLIP.git"
   ]
  },
  {
   "cell_type": "code",
   "execution_count": null,
   "metadata": {
    "colab": {
     "base_uri": "https://localhost:8080/"
    },
    "executionInfo": {
     "elapsed": 32784,
     "status": "ok",
     "timestamp": 1741792843935,
     "user": {
      "displayName": "Luca Fossen",
      "userId": "05839406467121902627"
     },
     "user_tz": -60
    },
    "id": "XetjJcBC5C-A",
    "outputId": "0b52b1d1-2659-47bf-ff51-16ec293899ca"
   },
   "outputs": [],
   "source": [
    "try:\n",
    "    # Comment out if not using colab\n",
    "    from google.colab import drive\n",
    "    drive.mount('/content/drive')\n",
    "\n",
    "    # Specific for luca's computer\n",
    "    %cd \"/content/drive/Othercomputers/lucas-yoga/UiB/INFO381/code/INFO381-GitHub\"\n",
    "except:\n",
    "    print(\"Not using Google Colab\")"
   ]
  },
  {
   "cell_type": "code",
   "execution_count": 3,
   "metadata": {
    "executionInfo": {
     "elapsed": 10743,
     "status": "ok",
     "timestamp": 1741792857040,
     "user": {
      "displayName": "Luca Fossen",
      "userId": "05839406467121902627"
     },
     "user_tz": -60
    },
    "id": "1NCaqVBS3ApL"
   },
   "outputs": [],
   "source": [
    "import torch\n",
    "import torch.nn as nn\n",
    "import torch.optim as optim\n",
    "from torch.utils.data import DataLoader\n",
    "import torchvision.transforms as transforms\n",
    "from torchvision.datasets import ImageFolder\n",
    "import clip\n",
    "import time\n"
   ]
  },
  {
   "cell_type": "code",
   "execution_count": null,
   "metadata": {
    "colab": {
     "base_uri": "https://localhost:8080/"
    },
    "executionInfo": {
     "elapsed": 12323,
     "status": "ok",
     "timestamp": 1741792869376,
     "user": {
      "displayName": "Luca Fossen",
      "userId": "05839406467121902627"
     },
     "user_tz": -60
    },
    "id": "3sMWPcTY4ryx",
    "outputId": "7c94d8f8-dd95-4a62-ede9-385f82e78594"
   },
   "outputs": [],
   "source": [
    "\n",
    "# 1) Load the CLIP model and choose device.\n",
    "device = torch.device(\"cuda\" if torch.cuda.is_available() else \"cpu\")\n",
    "clip_model, clip_preprocess = clip.load(\"ViT-B/32\", device=device)\n",
    "clip_model.eval()  # Put CLIP in eval mode.\n",
    "\n",
    "# 2) Optionally freeze all CLIP parameters or only part of them.\n",
    "for param in clip_model.parameters():\n",
    "    param.requires_grad = False\n"
   ]
  },
  {
   "cell_type": "markdown",
   "metadata": {
    "id": "N94bvUem3ApP"
   },
   "source": [
    "### Image preprocessing"
   ]
  },
  {
   "cell_type": "code",
   "execution_count": 5,
   "metadata": {
    "executionInfo": {
     "elapsed": 5,
     "status": "ok",
     "timestamp": 1741792869410,
     "user": {
      "displayName": "Luca Fossen",
      "userId": "05839406467121902627"
     },
     "user_tz": -60
    },
    "id": "nRHs2Ebu4ryz"
   },
   "outputs": [],
   "source": [
    "\n",
    "# 3) Define your image transform. You can use clip_preprocess or your own.\n",
    "#    For best results, the official clip_preprocess often works well:\n",
    "transform = clip_preprocess\n"
   ]
  },
  {
   "cell_type": "markdown",
   "metadata": {
    "id": "QJoWbsXs3ApN"
   },
   "source": [
    "### Define train and test path"
   ]
  },
  {
   "cell_type": "code",
   "execution_count": 6,
   "metadata": {
    "executionInfo": {
     "elapsed": 23,
     "status": "ok",
     "timestamp": 1741792869438,
     "user": {
      "displayName": "Luca Fossen",
      "userId": "05839406467121902627"
     },
     "user_tz": -60
    },
    "id": "q55zyKrI4ry0"
   },
   "outputs": [],
   "source": [
    "\n",
    "# 4) Load your dataset similarly to how you did for ResNet.\n",
    "path_train = \"cifar_train_test/train\"\n",
    "path_test = \"cifar_train_test/test\""
   ]
  },
  {
   "cell_type": "markdown",
   "metadata": {
    "id": "kqMLpXl63ApQ"
   },
   "source": [
    "### Create the datasets with ImageFolder\n",
    "\n",
    "Automatically reads the REAL and FAKE folders and lables them"
   ]
  },
  {
   "cell_type": "code",
   "execution_count": null,
   "metadata": {
    "colab": {
     "base_uri": "https://localhost:8080/"
    },
    "executionInfo": {
     "elapsed": 3298,
     "status": "ok",
     "timestamp": 1741792872739,
     "user": {
      "displayName": "Luca Fossen",
      "userId": "05839406467121902627"
     },
     "user_tz": -60
    },
    "id": "PfEsdWWK4ry0",
    "outputId": "fb51cd70-7999-4679-9413-cfc7935ca519"
   },
   "outputs": [],
   "source": [
    "def get_or_create_dataloaders(path_train, path_test, transform, train_loader_path=\"dataloaders/clip_train_loader.pt\", test_loader_path=\"dataloaders/clip_test_loader.pt\"):\n",
    "    import os, torch\n",
    "\n",
    "    if os.path.exists(train_loader_path) and os.path.exists(test_loader_path):\n",
    "        train_loader = torch.load(train_loader_path)\n",
    "        test_loader = torch.load(test_loader_path)\n",
    "    else:\n",
    "        train_dataset = ImageFolder(root=path_train, transform=transform)\n",
    "        test_dataset = ImageFolder(root=path_test, transform=transform)\n",
    "\n",
    "        train_loader = DataLoader(train_dataset, batch_size=32, shuffle=True)\n",
    "        test_loader = DataLoader(test_dataset, batch_size=32, shuffle=False)\n",
    "\n",
    "        torch.save(train_loader, train_loader_path)\n",
    "        torch.save(test_loader, test_loader_path)\n",
    "\n",
    "    return train_loader, test_loader\n",
    "\n",
    "train_loader, test_loader = get_or_create_dataloaders(path_train, path_test, transform)"
   ]
  },
  {
   "cell_type": "markdown",
   "metadata": {
    "id": "bxqnyr673ApU"
   },
   "source": [
    "### Defining the model\n",
    "\n",
    "Using CLIP with a linear classifier on top"
   ]
  },
  {
   "cell_type": "code",
   "execution_count": 8,
   "metadata": {
    "executionInfo": {
     "elapsed": 16,
     "status": "ok",
     "timestamp": 1741792872757,
     "user": {
      "displayName": "Luca Fossen",
      "userId": "05839406467121902627"
     },
     "user_tz": -60
    },
    "id": "Nty-4nJL4ry3"
   },
   "outputs": [],
   "source": [
    "# 5) Create a simple classifier head for the CLIP embeddings.\n",
    "#    CLIP's ViT-B/32 has a default embedding dimension of 512.\n",
    "class CLIPClassifier(nn.Module):\n",
    "    def __init__(self, clip_model, embed_dim=512, num_classes=2):\n",
    "        super().__init__()\n",
    "        self.clip_model = clip_model\n",
    "        self.classifier = nn.Linear(embed_dim, num_classes)\n",
    "\n",
    "    def forward(self, images):\n",
    "        # Encode images with CLIP's ViT (frozen), no gradient needed.\n",
    "        with torch.no_grad():\n",
    "            image_embeddings = self.clip_model.encode_image(images)\n",
    "        # Trainable classification head\n",
    "        return self.classifier(image_embeddings)\n",
    "\n",
    "# 6) Instantiate our model with CLIP backbone + linear head.\n",
    "model = CLIPClassifier(clip_model, embed_dim=512, num_classes=2).to(device)\n",
    "\n",
    "# 7) Define loss function and optimizer (only training the classifier head).\n",
    "criterion = nn.CrossEntropyLoss()\n",
    "optimizer = optim.Adam(model.classifier.parameters(), lr=0.001)\n"
   ]
  },
  {
   "cell_type": "markdown",
   "metadata": {
    "id": "UR_W5TH43ApW"
   },
   "source": [
    "### Training the model"
   ]
  },
  {
   "cell_type": "code",
   "execution_count": null,
   "metadata": {
    "colab": {
     "base_uri": "https://localhost:8080/",
     "height": 1000
    },
    "executionInfo": {
     "elapsed": 43,
     "status": "error",
     "timestamp": 1741792903678,
     "user": {
      "displayName": "Luca Fossen",
      "userId": "05839406467121902627"
     },
     "user_tz": -60
    },
    "id": "WqKQi1OB4ry4",
    "outputId": "0c07cb5e-dfdf-4631-8ebe-aeaabf76f6a1"
   },
   "outputs": [],
   "source": [
    "# 8) Training loop (similar to your ResNet loop).\n",
    "num_epochs = 1\n",
    "for epoch in range(num_epochs):\n",
    "    start_time = time.time()\n",
    "\n",
    "    model.train()\n",
    "    running_loss = 0.0\n",
    "    correct = 0\n",
    "    total = 0\n",
    "\n",
    "    for inputs, labels in train_loader:\n",
    "        inputs, labels = inputs.to(device), labels.to(device)\n",
    "\n",
    "        # Clear old gradients\n",
    "        optimizer.zero_grad()\n",
    "\n",
    "        outputs = model(inputs)  # Forward pass\n",
    "        loss = criterion(outputs, labels)  # Compute loss\n",
    "        loss.backward()                     # Backprop\n",
    "        optimizer.step()                    # Update classifier head\n",
    "\n",
    "        # Track training loss\n",
    "        running_loss += loss.item()\n",
    "\n",
    "        # Compute accuracy\n",
    "        _, preds = torch.max(outputs, 1)\n",
    "        correct += (preds == labels).sum().item()\n",
    "        total += labels.size(0)\n",
    "\n",
    "    epoch_loss = running_loss / len(train_loader)\n",
    "    epoch_accuracy = correct / total * 100\n",
    "    end_time = time.time()\n",
    "\n",
    "    print(f\"Epoch [{epoch+1}/{num_epochs}], \"\n",
    "        f\"Loss: {epoch_loss:.4f}, \"\n",
    "        f\"Accuracy: {epoch_accuracy:.2f}%, \"\n",
    "        f\"Time: {end_time - start_time:.2f} s\")\n",
    "\n",
    "# 9) Save the final classifier state.\n",
    "torch.save(model.state_dict(), \"clip_vit_classifier.pth\")\n",
    "print(\"CLIP-based model saved successfully!\")"
   ]
  },
  {
   "cell_type": "code",
   "execution_count": null,
   "metadata": {
    "id": "wBSK8Akw7sLk"
   },
   "outputs": [],
   "source": []
  }
 ],
 "metadata": {
  "accelerator": "GPU",
  "colab": {
   "gpuType": "A100",
   "provenance": []
  },
  "kernelspec": {
   "display_name": "Python 3",
   "name": "python3"
  },
  "language_info": {
   "codemirror_mode": {
    "name": "ipython",
    "version": 3
   },
   "file_extension": ".py",
   "mimetype": "text/x-python",
   "name": "python",
   "nbconvert_exporter": "python",
   "pygments_lexer": "ipython3",
   "version": "3.11.5"
  },
  "orig_nbformat": 4
 },
 "nbformat": 4,
 "nbformat_minor": 0
}
